{
 "cells": [
  {
   "cell_type": "code",
   "execution_count": 7,
   "metadata": {
    "collapsed": true
   },
   "outputs": [],
   "source": [
    "from os import path\n",
    "import OpenSSL\n",
    "from OpenSSL import crypto\n",
    "\n",
    "# Tạo khóa riêng\n",
    "key = crypto.PKey()\n",
    "key.generate_key(crypto.TYPE_RSA, 2048)\n",
    "\n",
    "# Tạo yêu cầu chứng chỉ\n",
    "req = crypto.X509Req()\n",
    "req.get_subject().CN = \"192.168.137.1\"\n",
    "req.set_pubkey(key)\n",
    "req.sign(key, \"sha256\")\n",
    "\n",
    "# Tạo chứng chỉ từ yêu cầu chứng chỉ\n",
    "cert = crypto.X509()\n",
    "cert.set_serial_number(1)\n",
    "cert.gmtime_adj_notBefore(0)\n",
    "cert.gmtime_adj_notAfter(365 * 24 * 60 * 60)  # 1 year validity\n",
    "cert.set_issuer(req.get_subject())\n",
    "cert.set_subject(req.get_subject())\n",
    "cert.set_pubkey(req.get_pubkey())\n",
    "cert.sign(key, \"sha256\")\n",
    "\n",
    "# Lưu khóa riêng và chứng chỉ vào tệp\n",
    "with open(\"private_key.pem\", \"wb\") as f:\n",
    "    f.write(crypto.dump_privatekey(crypto.FILETYPE_PEM, key))\n",
    "\n",
    "with open(\"crt.pem\", \"wb\") as f:\n",
    "    f.write(crypto.dump_certificate(crypto.FILETYPE_PEM, cert))"
   ]
  },
  {
   "cell_type": "code",
   "execution_count": null,
   "outputs": [],
   "source": [],
   "metadata": {
    "collapsed": false
   }
  }
 ],
 "metadata": {
  "kernelspec": {
   "display_name": "Python 3",
   "language": "python",
   "name": "python3"
  },
  "language_info": {
   "codemirror_mode": {
    "name": "ipython",
    "version": 2
   },
   "file_extension": ".py",
   "mimetype": "text/x-python",
   "name": "python",
   "nbconvert_exporter": "python",
   "pygments_lexer": "ipython2",
   "version": "2.7.6"
  }
 },
 "nbformat": 4,
 "nbformat_minor": 0
}
