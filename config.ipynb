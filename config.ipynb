{
 "cells": [
  {
   "cell_type": "code",
   "execution_count": 18,
   "metadata": {
    "collapsed": true,
    "ExecuteTime": {
     "end_time": "2023-08-23T08:16:41.295855683Z",
     "start_time": "2023-08-23T08:16:40.922338253Z"
    }
   },
   "outputs": [
    {
     "data": {
      "text/plain": "(220, b'2.0.0 SMTP server ready')"
     },
     "execution_count": 18,
     "metadata": {},
     "output_type": "execute_result"
    }
   ],
   "source": [
    "import smtplib\n",
    "server = smtplib.SMTP('smtp.office365.com', 587)\n",
    "server.starttls()\n"
   ]
  },
  {
   "cell_type": "code",
   "execution_count": 19,
   "outputs": [
    {
     "data": {
      "text/plain": "(235, b'2.7.0 Authentication successful')"
     },
     "execution_count": 19,
     "metadata": {},
     "output_type": "execute_result"
    }
   ],
   "source": [
    "server.login('no_reply_vietucfamily@outlook.com', 'VietUc@2023')"
   ],
   "metadata": {
    "collapsed": false,
    "ExecuteTime": {
     "end_time": "2023-08-23T08:16:44.515264341Z",
     "start_time": "2023-08-23T08:16:42.419248738Z"
    }
   }
  },
  {
   "cell_type": "code",
   "execution_count": 20,
   "outputs": [
    {
     "data": {
      "text/plain": "{}"
     },
     "execution_count": 20,
     "metadata": {},
     "output_type": "execute_result"
    }
   ],
   "source": [
    "server.sendmail('no_reply_vietucfamily@outlook.com', 'hungmanh2607@gmail.com', 'Hello, this is a test email.')"
   ],
   "metadata": {
    "collapsed": false,
    "ExecuteTime": {
     "end_time": "2023-08-23T08:16:46.401809048Z",
     "start_time": "2023-08-23T08:16:45.395133112Z"
    }
   }
  },
  {
   "cell_type": "code",
   "execution_count": 23,
   "outputs": [],
   "source": [
    "from email.mime.multipart import MIMEMultipart\n",
    "from email.mime.text import MIMEText\n",
    "\n",
    "# Create message container - the correct MIME type is multipart/alternative.\n",
    "msg = MIMEMultipart('alternative')\n",
    "msg['Subject'] = \"Đăng ký tham gia Việt Úc Party 2023\"\n",
    "msg['From'] = 'no_reply_vietucfamily@outlook.com'\n",
    "msg['To'] = 'hungmanh2607@gmail.com'\n",
    "\n",
    "# Create the body of the message (a plain-text and an HTML version).\n",
    "text = \"Hi!\\nHow are you?\\nHere is the link you wanted:\\nhttp://www.python.org\"\n",
    "html = \"\"\"\\\n",
    "<html>\n",
    "  <head></head>\n",
    "  <body>\n",
    "    <p>Hi!<br>\n",
    "       How are you?<br>\n",
    "       Here is the <a href=\"http://www.python.org\">link</a> you wanted.\n",
    "       <img src=\"\"/>\n",
    "    </p>\n",
    "  </body>\n",
    "</html>\n",
    "\"\"\"\n",
    "\n",
    "# Record the MIME types of both parts - text/plain and text/html.\n",
    "part1 = MIMEText(text, 'plain')\n",
    "part2 = MIMEText(html, 'html')\n",
    "\n",
    "# Attach parts into message container.\n",
    "# According to RFC 2046, the last part of a multipart message, in this case\n",
    "# the HTML message, is best and preferred.\n",
    "msg.attach(part1)\n",
    "msg.attach(part2)"
   ],
   "metadata": {
    "collapsed": false,
    "ExecuteTime": {
     "end_time": "2023-08-23T08:17:39.930438426Z",
     "start_time": "2023-08-23T08:17:39.783311427Z"
    }
   }
  },
  {
   "cell_type": "code",
   "execution_count": 24,
   "outputs": [
    {
     "data": {
      "text/plain": "{}"
     },
     "execution_count": 24,
     "metadata": {},
     "output_type": "execute_result"
    }
   ],
   "source": [
    "server.sendmail('no_reply_vietucfamily@outlook.com', 'hungmanh2607@gmail.com', msg.as_string())\n"
   ],
   "metadata": {
    "collapsed": false,
    "ExecuteTime": {
     "end_time": "2023-08-23T08:17:42.620705764Z",
     "start_time": "2023-08-23T08:17:41.311871576Z"
    }
   }
  },
  {
   "cell_type": "code",
   "execution_count": 17,
   "outputs": [
    {
     "data": {
      "text/plain": "(221, b'2.0.0 Service closing transmission channel')"
     },
     "execution_count": 17,
     "metadata": {},
     "output_type": "execute_result"
    }
   ],
   "source": [
    "server.quit()"
   ],
   "metadata": {
    "collapsed": false,
    "ExecuteTime": {
     "end_time": "2023-08-23T08:12:28.894559293Z",
     "start_time": "2023-08-23T08:12:28.784803927Z"
    }
   }
  },
  {
   "cell_type": "code",
   "execution_count": null,
   "outputs": [],
   "source": [],
   "metadata": {
    "collapsed": false
   }
  }
 ],
 "metadata": {
  "kernelspec": {
   "display_name": "Python 3",
   "language": "python",
   "name": "python3"
  },
  "language_info": {
   "codemirror_mode": {
    "name": "ipython",
    "version": 2
   },
   "file_extension": ".py",
   "mimetype": "text/x-python",
   "name": "python",
   "nbconvert_exporter": "python",
   "pygments_lexer": "ipython2",
   "version": "2.7.6"
  }
 },
 "nbformat": 4,
 "nbformat_minor": 0
}
